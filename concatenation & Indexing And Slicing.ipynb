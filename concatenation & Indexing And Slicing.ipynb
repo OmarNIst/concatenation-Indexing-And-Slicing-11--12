{
 "cells": [
  {
   "cell_type": "code",
   "execution_count": 1,
   "metadata": {},
   "outputs": [
    {
     "name": "stdout",
     "output_type": "stream",
     "text": [
      "I Love  Python \n",
      "I Love   Python \n",
      "I Love   Python \n"
     ]
    }
   ],
   "source": [
    "# Concatenation And Training\n",
    "# The way how we  connect the strings together\n",
    "# connect two strings to produce larger string\n",
    "mas = \"I Love \"\n",
    "lan = \" Python \"\n",
    "print(mas + lan)\n",
    "# to make a space between the two words \n",
    "# you can use the \"  \"\n",
    "print(mas + \" \" + lan) \n",
    "full = mas + \" \" + lan\n",
    "print(full)\n",
    "\n",
    "\n"
   ]
  },
  {
   "cell_type": "code",
   "execution_count": 10,
   "metadata": {},
   "outputs": [
    {
     "name": "stdout",
     "output_type": "stream",
     "text": [
      "First Second Third     A       B       C\n",
      "First Second Third    \n",
      " A       B       C\n"
     ]
    }
   ],
   "source": [
    "# Escape Sequences Characters\n",
    "a = \"First \\\n",
    "Second \\\n",
    "Third    \"\n",
    "b = \" A \\\n",
    "      B \\\n",
    "      C\"\n",
    "print(a + b)\n",
    "\n",
    "#  Line Feed \\n  to print n  new line \n",
    "\n",
    "print(a + \"\\n\" + b)"
   ]
  },
  {
   "cell_type": "code",
   "execution_count": 11,
   "metadata": {},
   "outputs": [
    {
     "ename": "TypeError",
     "evalue": "can only concatenate str (not \"int\") to str",
     "output_type": "error",
     "traceback": [
      "\u001b[1;31m---------------------------------------------------------------------------\u001b[0m",
      "\u001b[1;31mTypeError\u001b[0m                                 Traceback (most recent call last)",
      "Cell \u001b[1;32mIn[11], line 3\u001b[0m\n\u001b[0;32m      1\u001b[0m \u001b[39m##  very important note \u001b[39;00m\n\u001b[0;32m      2\u001b[0m \u001b[39m#you cann't concatenat string with number\u001b[39;00m\n\u001b[1;32m----> 3\u001b[0m \u001b[39mprint\u001b[39m(\u001b[39m\"\u001b[39;49m\u001b[39mhello\u001b[39;49m\u001b[39m\"\u001b[39;49m \u001b[39m+\u001b[39;49m \u001b[39m1\u001b[39;49m )\n",
      "\u001b[1;31mTypeError\u001b[0m: can only concatenate str (not \"int\") to str"
     ]
    }
   ],
   "source": [
    "\n",
    "##  very important note \n",
    "#you cann't concatenat string with number\n",
    "print(\"hello\" + 1 )"
   ]
  },
  {
   "cell_type": "code",
   "execution_count": null,
   "metadata": {},
   "outputs": [],
   "source": [
    "# Indexing And Slicing\n",
    "#[1] All Data in Python is an Object\n",
    "#[2] Object Contain Elements\n",
    "#[3] Every Element Has Its Own Index\n",
    "#[4] Python use Zero based Indexing (Index start from zero)\n",
    "#[5] Use square Brackets to Access Element\n",
    "#[6] Enable Accessing parts of Strings, Tuples or Lists "
   ]
  },
  {
   "cell_type": "code",
   "execution_count": 5,
   "metadata": {},
   "outputs": [
    {
     "name": "stdout",
     "output_type": "stream",
     "text": [
      "I\n"
     ]
    }
   ],
   "source": [
    "# Indexing ( Access Single Item )\n",
    "myString = \" I love Python \"  #hahahahahah the space\n",
    "print(myString[0])"
   ]
  },
  {
   "cell_type": "code",
   "execution_count": 6,
   "metadata": {},
   "outputs": [
    {
     "name": "stdout",
     "output_type": "stream",
     "text": [
      "I\n"
     ]
    }
   ],
   "source": [
    "# Indexing ( Access Single Item )\n",
    "myString = \"I love Python \"\n",
    "print(myString[0])"
   ]
  },
  {
   "cell_type": "code",
   "execution_count": 7,
   "metadata": {},
   "outputs": [
    {
     "name": "stdout",
     "output_type": "stream",
     "text": [
      "n\n"
     ]
    }
   ],
   "source": [
    "# Indexing ( Access Single Item )\n",
    "myString = \"I love Python\"  #first character fom the end\n",
    "print(myString[-1])"
   ]
  },
  {
   "cell_type": "code",
   "execution_count": 8,
   "metadata": {},
   "outputs": [
    {
     "name": "stdout",
     "output_type": "stream",
     "text": [
      "y\n"
     ]
    }
   ],
   "source": [
    "# Indexing ( Access Single Item )\n",
    "myString = \"I love Python \"\n",
    "print(myString[-6]) # Index -6 => from the end"
   ]
  },
  {
   "cell_type": "code",
   "execution_count": 19,
   "metadata": {},
   "outputs": [
    {
     "name": "stdout",
     "output_type": "stream",
     "text": [
      "yt\n",
      "yth\n",
      "ov\n",
      "I love Pyt\n",
      "I love Python \n",
      "e Python \n",
      "I love Python \n",
      "None\n",
      "I love Python \n",
      "None\n",
      "Ilv yhn\n",
      "Io tn\n"
     ]
    }
   ],
   "source": [
    "# Slicing (Access Multiple sequence Items)\n",
    "# [Start:End]  End not Included\n",
    "# [Start:End:Steps]\n",
    "print(myString[8:10])\n",
    "print(myString[8:11])  #yth\n",
    "print(myString[3:5])   # ov\n",
    "print(myString[:10]) # If start Is Not Here it Will start From 0\n",
    "print(myString[:]) # full data\n",
    "print(myString[5:]) # If End is not Here it Will go to the End\n",
    "print(print(myString[0::1])) #full data\n",
    "print(print(myString[::1])) #full data\n",
    "#---------------\n",
    "print(myString[::2])  # it will start form the begining and will end \n",
    "# in the end with step by two\n",
    "print(myString[::3])"
   ]
  }
 ],
 "metadata": {
  "kernelspec": {
   "display_name": "Python 3",
   "language": "python",
   "name": "python3"
  },
  "language_info": {
   "codemirror_mode": {
    "name": "ipython",
    "version": 3
   },
   "file_extension": ".py",
   "mimetype": "text/x-python",
   "name": "python",
   "nbconvert_exporter": "python",
   "pygments_lexer": "ipython3",
   "version": "3.11.2"
  },
  "orig_nbformat": 4
 },
 "nbformat": 4,
 "nbformat_minor": 2
}
